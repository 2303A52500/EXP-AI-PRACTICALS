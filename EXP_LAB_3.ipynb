{
  "nbformat": 4,
  "nbformat_minor": 0,
  "metadata": {
    "colab": {
      "provenance": []
    },
    "kernelspec": {
      "name": "python3",
      "display_name": "Python 3"
    },
    "language_info": {
      "name": "python"
    }
  },
  "cells": [
    {
      "cell_type": "code",
      "execution_count": 3,
      "metadata": {
        "id": "TRjfo2K54rG-"
      },
      "outputs": [],
      "source": [
        "import numpy as np\n",
        "from sklearn.linear_model import LinearRegression"
      ]
    },
    {
      "cell_type": "code",
      "source": [
        "X_perturbed = np.array([\n",
        "    [0.3, 0.8],\n",
        "    [0.32, 0.78],\n",
        "    [0.28, 0.82],\n",
        "    [0.35, 0.75],\n",
        "    [0.25, 0.85]\n",
        "])"
      ],
      "metadata": {
        "id": "ejtpNW3a5-KP"
      },
      "execution_count": 4,
      "outputs": []
    },
    {
      "cell_type": "code",
      "source": [
        "l_outputs = np.array([0.285, 0.308, 0.262, 0.338, 0.238])"
      ],
      "metadata": {
        "id": "Qm-zVkA16Aii"
      },
      "execution_count": 5,
      "outputs": []
    },
    {
      "cell_type": "code",
      "source": [
        "weights = np.array([1.0, 0.923, 0.923, 0.602, 0.602])"
      ],
      "metadata": {
        "id": "Tgw0zveB6Gth"
      },
      "execution_count": 6,
      "outputs": []
    },
    {
      "cell_type": "code",
      "source": [
        "lr = LinearRegression()\n",
        "lr.fit(X_perturbed, l_outputs, sample_weight=weights)\n",
        "\n",
        "print(\"Intercept (β₀):\", lr.intercept_)\n",
        "print(\"Fat_Score weight (β₁):\", lr.coef_[0])\n",
        "print(\"Salt_Score weight (β₂):\", lr.coef_[1])"
      ],
      "metadata": {
        "colab": {
          "base_uri": "https://localhost:8080/"
        },
        "id": "C8atPDkX6IzY",
        "outputId": "e63bee74-88a5-463a-d4a5-f7c680f084ce"
      },
      "execution_count": 7,
      "outputs": [
        {
          "output_type": "stream",
          "name": "stdout",
          "text": [
            "Intercept (β₀): 0.5432790037033084\n",
            "Fat_Score weight (β₁): 0.5147743037029135\n",
            "Salt_Score weight (β₂): -0.5147743037029134\n"
          ]
        }
      ]
    }
  ]
}